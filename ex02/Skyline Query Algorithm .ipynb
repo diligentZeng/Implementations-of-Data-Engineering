{
 "cells": [
  {
   "cell_type": "code",
   "execution_count": 155,
   "metadata": {},
   "outputs": [],
   "source": [
    "#Sichun Zeng 3202876\n",
    "import csv\n",
    "from numpy import genfromtxt\n",
    "import numpy as np\n",
    "\n",
    "def skyline(points):\n",
    "    \n",
    "    skyline_points = []\n",
    "    for i in range(len(points)):\n",
    "            remain_points = np.delete(points,i,axis = 0) #remove the ith item in the points\n",
    "            is_dominated = False\n",
    "            for p_j in remain_points:\n",
    "                if p_j[0] >= points[i][0] and p_j[1] >= points[i][1]:\n",
    "                    is_dominated = True #p_i is dominated by other point\n",
    "                    break \n",
    "            if not is_dominated:\n",
    "                skyline_points.append(points[i])\n",
    "    return skyline_points\n",
    "                "
   ]
  },
  {
   "cell_type": "code",
   "execution_count": 156,
   "metadata": {},
   "outputs": [],
   "source": [
    "#load test file and test solution file\n",
    "points = genfromtxt('test.csv', delimiter=';')\n",
    "test = genfromtxt('test_sol.csv', delimiter=';')"
   ]
  },
  {
   "cell_type": "code",
   "execution_count": 157,
   "metadata": {},
   "outputs": [
    {
     "name": "stdout",
     "output_type": "stream",
     "text": [
      "[array([93., 34.]), array([52., 90.]), array([ 46., 102.]), array([81., 89.]), array([84., 62.])]\n",
      "[[ 46. 102.]\n",
      " [ 52.  90.]\n",
      " [ 81.  89.]\n",
      " [ 84.  62.]\n",
      " [ 93.  34.]]\n"
     ]
    }
   ],
   "source": [
    "skyline_points = skyline(points)\n",
    "print(skyline_points)\n",
    "print(test)"
   ]
  },
  {
   "cell_type": "code",
   "execution_count": null,
   "metadata": {},
   "outputs": [],
   "source": [
    "\n"
   ]
  },
  {
   "cell_type": "code",
   "execution_count": null,
   "metadata": {},
   "outputs": [],
   "source": []
  },
  {
   "cell_type": "code",
   "execution_count": null,
   "metadata": {},
   "outputs": [],
   "source": []
  },
  {
   "cell_type": "code",
   "execution_count": 151,
   "metadata": {},
   "outputs": [],
   "source": []
  }
 ],
 "metadata": {
  "kernelspec": {
   "display_name": "Python 3",
   "language": "python",
   "name": "python3"
  },
  "language_info": {
   "codemirror_mode": {
    "name": "ipython",
    "version": 3
   },
   "file_extension": ".py",
   "mimetype": "text/x-python",
   "name": "python",
   "nbconvert_exporter": "python",
   "pygments_lexer": "ipython3",
   "version": "3.8.5"
  }
 },
 "nbformat": 4,
 "nbformat_minor": 4
}

{
 "cells": [
  {
   "cell_type": "markdown",
   "id": "fa78a735",
   "metadata": {},
   "source": [
    "# Implementation of skyline query with Plane Sweep Algorithm"
   ]
  },
  {
   "cell_type": "code",
   "execution_count": 9,
   "id": "8333f541",
   "metadata": {},
   "outputs": [],
   "source": [
    "import csv\n",
    "from numpy import genfromtxt\n",
    "import numpy as np\n",
    "from matplotlib import pyplot as plt"
   ]
  },
  {
   "cell_type": "code",
   "execution_count": 58,
   "id": "9cc2c5b0",
   "metadata": {},
   "outputs": [],
   "source": [
    "def skyline(points):\n",
    "    \"\"\"\n",
    "    This mothod try to solve the skyline problem with Plane Sweep Algorithm\n",
    "    Higher values means better results\n",
    "    :param input 2d points in a numpy array\n",
    "    :return a list of skyline points\n",
    "    \"\"\" \n",
    "    #get the index of the arrary according to x coordinate \n",
    "    index = np.argsort(points[:, 0])\n",
    "    # reverse the order of the indices \n",
    "    index = index[::-1]\n",
    "    #sort the input data with descending order\n",
    "    points = points[index]\n",
    "    #add first element into skyline_points which has the highest x value \n",
    "    skyline_points = []\n",
    "    skyline_points.append(points[0])\n",
    "    for point in points[1:]:\n",
    "        #the remain points should have higher value in y coordinate compare to the newly added point\n",
    "        if point[1] > skyline_points[-1][1]:\n",
    "            #incase they have the same x value but one of them has higher y value\n",
    "            if point[0] == skyline_points[-1][0]:\n",
    "                skyline_points = skyline_points[:-1]\n",
    "                skyline_points.append(point)\n",
    "            else:\n",
    "                skyline_points.append(point)\n",
    "    \n",
    "    return skyline_points"
   ]
  },
  {
   "cell_type": "markdown",
   "id": "0bf272c4",
   "metadata": {},
   "source": [
    "## Load the input data as well as test data"
   ]
  },
  {
   "cell_type": "code",
   "execution_count": 59,
   "id": "a684ffed",
   "metadata": {},
   "outputs": [
    {
     "name": "stdout",
     "output_type": "stream",
     "text": [
      "[84. 58.]\n",
      "[[ 93.  34.]\n",
      " [ 84.  62.]\n",
      " [ 81.  89.]\n",
      " [ 52.  90.]\n",
      " [ 46. 102.]]\n",
      "[[ 46. 102.]\n",
      " [ 52.  90.]\n",
      " [ 81.  89.]\n",
      " [ 84.  62.]\n",
      " [ 93.  34.]]\n"
     ]
    }
   ],
   "source": [
    "#load test file and test solution file into numpy arrays\n",
    "points = genfromtxt('test.csv', delimiter=';')\n",
    "test = genfromtxt('test_sol.csv', delimiter=';')\n",
    "skyline_points = skyline(points)\n",
    "#convert a list to a numpy array\n",
    "skyline_points = np.array(skyline_points) \n",
    "#compare the results\n",
    "print(skyline_points)\n",
    "print(test)"
   ]
  },
  {
   "cell_type": "markdown",
   "id": "e5985456",
   "metadata": {},
   "source": [
    "## Plot the results"
   ]
  },
  {
   "cell_type": "code",
   "execution_count": 60,
   "id": "7cd520a2",
   "metadata": {},
   "outputs": [
    {
     "data": {
      "text/plain": [
       "Text(0.5, 1.0, 'Skyline Points')"
      ]
     },
     "execution_count": 60,
     "metadata": {},
     "output_type": "execute_result"
    },
    {
     "data": {
      "image/png": "[encoded data removed]",
      "text/plain": [
       "<Figure size 432x288 with 1 Axes>"
      ]
     },
     "metadata": {
      "needs_background": "light"
     },
     "output_type": "display_data"
    }
   ],
   "source": [
    "input_x = points[:,0]\n",
    "input_y = points[:,1]\n",
    "skyline_x = skyline_points[:, 0]\n",
    "skyline_y = skyline_points[:, 1]\n",
    "plt.scatter(input_x,input_y, color = 'blue')\n",
    "plt.scatter(skyline_x, skyline_y, color = 'red')\n",
    "\n",
    "plt.title('Skyline Points')"
   ]
  },
  {
   "cell_type": "code",
   "execution_count": null,
   "id": "f0618720",
   "metadata": {},
   "outputs": [],
   "source": []
  }
 ],
 "metadata": {
  "kernelspec": {
   "display_name": "Python 3 (ipykernel)",
   "language": "python",
   "name": "python3"
  },
  "language_info": {
   "codemirror_mode": {
    "name": "ipython",
    "version": 3
   },
   "file_extension": ".py",
   "mimetype": "text/x-python",
   "name": "python",
   "nbconvert_exporter": "python",
   "pygments_lexer": "ipython3",
   "version": "3.10.6"
  }
 },
 "nbformat": 4,
 "nbformat_minor": 5
}
